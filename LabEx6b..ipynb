{
 "cells": [
  {
   "cell_type": "code",
   "execution_count": 2,
   "id": "1a6f31d8",
   "metadata": {},
   "outputs": [
    {
     "name": "stdout",
     "output_type": "stream",
     "text": [
      "The optimal value is: 5\n"
     ]
    }
   ],
   "source": [
    "# Python3 program to demonstrate\n",
    "# working of Alpha-Beta Pruning\n",
    "\n",
    "# Initial values of Alpha and Beta\n",
    "MAX, MIN = 1000, -1000\n",
    "\n",
    "# Returns optimal value for the current player\n",
    "# (Initially called for root and maximizer)\n",
    "def minimax(depth, nodeIndex, maximizingPlayer, values, alpha, beta):\n",
    "    # Terminating condition, i.e., leaf node is reached\n",
    "    if depth == 3:\n",
    "        return values[nodeIndex]\n",
    "\n",
    "    if maximizingPlayer:\n",
    "        best = MIN\n",
    "\n",
    "        # Recur for left and right children\n",
    "        for i in range(0, 2):\n",
    "            val = minimax(depth + 1, nodeIndex * 2 + i, False, values, alpha, beta)\n",
    "            best = max(best, val)\n",
    "            alpha = max(alpha, best)  # Alpha Beta Pruning\n",
    "            \n",
    "            # Prune the remaining nodes if beta ≤ alpha\n",
    "            if beta <= alpha:\n",
    "                break\n",
    "        return best\n",
    "\n",
    "    else:\n",
    "        best = MAX\n",
    "\n",
    "        # Recur for left and right children\n",
    "        for i in range(0, 2):\n",
    "            val = minimax(depth + 1, nodeIndex * 2 + i, True, values, alpha, beta)\n",
    "            best = min(best, val)\n",
    "            beta = min(beta, best)  # Alpha Beta Pruning\n",
    "            \n",
    "            # Prune the remaining nodes if beta ≤ alpha\n",
    "            if beta <= alpha:\n",
    "                break\n",
    "        return best\n",
    "\n",
    "# Driver Code\n",
    "if __name__ == \"__main__\":\n",
    "    values = [3, 5, 6, 9, 1, 2, 0, -1]\n",
    "    print(\"The optimal value is:\", minimax(0, 0, True, values, MIN, MAX))"
   ]
  },
  {
   "cell_type": "code",
   "execution_count": null,
   "id": "30c9897c",
   "metadata": {},
   "outputs": [],
   "source": []
  }
 ],
 "metadata": {
  "kernelspec": {
   "display_name": "Python 3 (ipykernel)",
   "language": "python",
   "name": "python3"
  },
  "language_info": {
   "codemirror_mode": {
    "name": "ipython",
    "version": 3
   },
   "file_extension": ".py",
   "mimetype": "text/x-python",
   "name": "python",
   "nbconvert_exporter": "python",
   "pygments_lexer": "ipython3",
   "version": "3.10.9"
  }
 },
 "nbformat": 4,
 "nbformat_minor": 5
}
