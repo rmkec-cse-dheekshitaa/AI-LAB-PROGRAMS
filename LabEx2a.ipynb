{
 "cells": [
  {
   "cell_type": "code",
   "execution_count": 1,
   "id": "5ddc10a9-75bc-4668-812a-ec43138351e4",
   "metadata": {},
   "outputs": [
    {
     "name": "stdout",
     "output_type": "stream",
     "text": [
      "Following is Breadth First Traversal (starting from vertex 2):\n",
      "2 0 3 1 "
     ]
    }
   ],
   "source": [
    "# Python3 Program to print BFS traversal\n",
    "# from a given source vertex. BFS(int s)\n",
    "# traverses vertices reachable from s.\n",
    "from collections import defaultdict\n",
    "\n",
    "# This class represents a directed graph\n",
    "# using adjacency list representation\n",
    "class Graph:\n",
    "\n",
    "    # Constructor\n",
    "    def __init__(self):\n",
    "        # default dictionary to store graph\n",
    "        self.graph = defaultdict(list)\n",
    "        self.visited = []\n",
    "\n",
    "    # function to add an edge to graph\n",
    "    def addEdge(self, u, v):\n",
    "        self.graph[u].append(v)\n",
    "\n",
    "    # Function to print a BFS of graph\n",
    "    def BFS(self, s):\n",
    "        # Create a queue for BFS\n",
    "        queue = []\n",
    "\n",
    "        # Add the source node in visited and enqueue it\n",
    "        queue.append(s)\n",
    "        self.visited.append(s)\n",
    "\n",
    "        while queue:\n",
    "            # Dequeue a vertex from queue and print it\n",
    "            s = queue.pop(0)\n",
    "            print(s, end=\" \")\n",
    "\n",
    "            # Get all adjacent vertices of the dequeued vertex s.\n",
    "            # If an adjacent has not been visited, then add it\n",
    "            # in visited and enqueue it\n",
    "            for i in self.graph[s]:\n",
    "                if i not in self.visited:\n",
    "                    queue.append(i)\n",
    "                    self.visited.append(i)\n",
    "\n",
    "# Driver code\n",
    "\n",
    "# Create a graph given in the above diagram\n",
    "g = Graph()\n",
    "g.addEdge(0, 1)\n",
    "g.addEdge(0, 2)\n",
    "g.addEdge(1, 2)\n",
    "g.addEdge(2, 0)\n",
    "g.addEdge(2, 3)\n",
    "g.addEdge(3, 3)\n",
    "\n",
    "print(\"Following is Breadth First Traversal (starting from vertex 2):\")\n",
    "g.BFS(2)\n"
   ]
  },
  {
   "cell_type": "code",
   "execution_count": null,
   "id": "69760dba-a771-4d44-a660-0a9526d97253",
   "metadata": {},
   "outputs": [],
   "source": []
  }
 ],
 "metadata": {
  "kernelspec": {
   "display_name": "Python [conda env:base] *",
   "language": "python",
   "name": "conda-base-py"
  },
  "language_info": {
   "codemirror_mode": {
    "name": "ipython",
    "version": 3
   },
   "file_extension": ".py",
   "mimetype": "text/x-python",
   "name": "python",
   "nbconvert_exporter": "python",
   "pygments_lexer": "ipython3",
   "version": "3.12.7"
  }
 },
 "nbformat": 4,
 "nbformat_minor": 5
}
