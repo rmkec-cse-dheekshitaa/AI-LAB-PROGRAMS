{
 "cells": [
  {
   "cell_type": "code",
   "execution_count": 1,
   "id": "5cd790e5",
   "metadata": {},
   "outputs": [
    {
     "name": "stdout",
     "output_type": "stream",
     "text": [
      "Collecting python-constraintNote: you may need to restart the kernel to use updated packages.\n",
      "\n",
      "  Downloading python-constraint-1.4.0.tar.bz2 (18 kB)\n",
      "  Preparing metadata (setup.py): started\n",
      "  Preparing metadata (setup.py): finished with status 'done'\n",
      "Building wheels for collected packages: python-constraint\n",
      "  Building wheel for python-constraint (setup.py): started\n",
      "  Building wheel for python-constraint (setup.py): finished with status 'done'\n",
      "  Created wheel for python-constraint: filename=python_constraint-1.4.0-py2.py3-none-any.whl size=24083 sha256=1d8448bd6c293f2c4835ee1bc5a3500da897135205a5d99ddcd8c5bffeccecc5\n",
      "  Stored in directory: c:\\users\\dheekshitaa s\\appdata\\local\\pip\\cache\\wheels\\05\\2c\\34\\338b491d08d532bb204d2a5207da9baf0d4806619fd889b423\n",
      "Successfully built python-constraint\n",
      "Installing collected packages: python-constraint\n",
      "Successfully installed python-constraint-1.4.0\n"
     ]
    }
   ],
   "source": [
    "pip install python-constraint"
   ]
  },
  {
   "cell_type": "code",
   "execution_count": 2,
   "id": "35e9ef46",
   "metadata": {},
   "outputs": [
    {
     "name": "stdout",
     "output_type": "stream",
     "text": [
      "{'b': 3, 'c': 2, 'a': 4}\n",
      "{'b': 3, 'c': 2, 'a': 1}\n",
      "{'b': 3, 'c': 1, 'a': 2}\n",
      "{'b': 3, 'c': 1, 'a': 4}\n",
      "{'b': 2, 'c': 1, 'a': 3}\n",
      "{'b': 2, 'c': 1, 'a': 4}\n"
     ]
    }
   ],
   "source": [
    "from constraint import Problem, AllDifferentConstraint\n",
    "\n",
    "def constraint_function(variables, domains, assignments):\n",
    "    # Define your constraints here\n",
    "    # Example: variables[0] + variables[1] == variables[2]\n",
    "    return True\n",
    "\n",
    "def main():\n",
    "    # Create a problem instance\n",
    "    problem = Problem()\n",
    "\n",
    "    # Add variables to the problem\n",
    "    problem.addVariable('a', range(1, 5))\n",
    "    problem.addVariable('b', range(2, 4))\n",
    "    problem.addVariable('c', range(1, 3))\n",
    "\n",
    "    # Add a constraint function to the problem\n",
    "    problem.addConstraint(constraint_function, ['a', 'b', 'c'])\n",
    "\n",
    "    # Optionally, add an \"All Different\" constraint\n",
    "    problem.addConstraint(AllDifferentConstraint(), ['a', 'b', 'c'])\n",
    "\n",
    "    # Solve the problem\n",
    "    solutions = problem.getSolutions()\n",
    "\n",
    "    # Print the solutions\n",
    "    for solution in solutions:\n",
    "        print(solution)\n",
    "\n",
    "if __name__ == \"__main__\":\n",
    "    main()"
   ]
  },
  {
   "cell_type": "code",
   "execution_count": null,
   "id": "e90f1657",
   "metadata": {},
   "outputs": [],
   "source": []
  }
 ],
 "metadata": {
  "kernelspec": {
   "display_name": "Python 3 (ipykernel)",
   "language": "python",
   "name": "python3"
  },
  "language_info": {
   "codemirror_mode": {
    "name": "ipython",
    "version": 3
   },
   "file_extension": ".py",
   "mimetype": "text/x-python",
   "name": "python",
   "nbconvert_exporter": "python",
   "pygments_lexer": "ipython3",
   "version": "3.10.9"
  }
 },
 "nbformat": 4,
 "nbformat_minor": 5
}
