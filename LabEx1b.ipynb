{
 "cells": [
  {
   "cell_type": "code",
   "execution_count": 1,
   "id": "ed6c5f7a-dee9-4678-86e3-8c25034bcb2a",
   "metadata": {},
   "outputs": [
    {
     "name": "stdout",
     "output_type": "stream",
     "text": [
      "Enter the number of queens:\n"
     ]
    },
    {
     "name": "stdin",
     "output_type": "stream",
     "text": [
      " 8\n"
     ]
    },
    {
     "name": "stdout",
     "output_type": "stream",
     "text": [
      "Solution exists. Placements of queens:\n",
      "[1, 0, 0, 0, 0, 0, 0, 0]\n",
      "[0, 0, 0, 0, 1, 0, 0, 0]\n",
      "[0, 0, 0, 0, 0, 0, 0, 1]\n",
      "[0, 0, 0, 0, 0, 1, 0, 0]\n",
      "[0, 0, 1, 0, 0, 0, 0, 0]\n",
      "[0, 0, 0, 0, 0, 0, 1, 0]\n",
      "[0, 1, 0, 0, 0, 0, 0, 0]\n",
      "[0, 0, 0, 1, 0, 0, 0, 0]\n"
     ]
    }
   ],
   "source": [
    "print(\"Enter the number of queens:\")\n",
    "N = int(input())\n",
    "\n",
    "# Create an NxN chessboard initialized with 0\n",
    "board = [[0] * N for _ in range(N)]\n",
    "\n",
    "def is_safe(row, col):\n",
    "    # Check vertically if any queen is placed in the same column\n",
    "    for i in range(row):\n",
    "        if board[i][col] == 1:\n",
    "            return False\n",
    "\n",
    "    # Check left diagonal (\\ direction)\n",
    "    i, j = row, col\n",
    "    while i >= 0 and j >= 0:\n",
    "        if board[i][j] == 1:\n",
    "            return False\n",
    "        i -= 1\n",
    "        j -= 1\n",
    "\n",
    "    # Check right diagonal (/ direction)\n",
    "    i, j = row, col\n",
    "    while i >= 0 and j < N:\n",
    "        if board[i][j] == 1:\n",
    "            return False\n",
    "        i -= 1\n",
    "        j += 1\n",
    "\n",
    "    return True\n",
    "\n",
    "def solve_n_queens(row):\n",
    "    # If all queens are placed, return True\n",
    "    if row == N:\n",
    "        return True\n",
    "\n",
    "    # Try placing a queen in each column of the current row\n",
    "    for col in range(N):\n",
    "        if is_safe(row, col):  # Check if it's safe to place a queen\n",
    "            board[row][col] = 1  # Place queen\n",
    "\n",
    "            # Recur for the next row\n",
    "            if solve_n_queens(row + 1):\n",
    "                return True\n",
    "\n",
    "            # Backtrack if no placement leads to a solution\n",
    "            board[row][col] = 0\n",
    "\n",
    "    return False\n",
    "\n",
    "# Start solving from the first row\n",
    "if solve_n_queens(0):\n",
    "    print(\"Solution exists. Placements of queens:\")\n",
    "    for row in board:\n",
    "        print(row)\n",
    "else:\n",
    "    print(\"No solution exists.\")\n"
   ]
  },
  {
   "cell_type": "code",
   "execution_count": null,
   "id": "3d61f7f5-a75c-44e2-8343-9339c1c9e9f5",
   "metadata": {},
   "outputs": [],
   "source": []
  }
 ],
 "metadata": {
  "kernelspec": {
   "display_name": "Python [conda env:base] *",
   "language": "python",
   "name": "conda-base-py"
  },
  "language_info": {
   "codemirror_mode": {
    "name": "ipython",
    "version": 3
   },
   "file_extension": ".py",
   "mimetype": "text/x-python",
   "name": "python",
   "nbconvert_exporter": "python",
   "pygments_lexer": "ipython3",
   "version": "3.12.7"
  }
 },
 "nbformat": 4,
 "nbformat_minor": 5
}
